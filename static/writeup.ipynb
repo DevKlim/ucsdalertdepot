{
  "cells": [
    {
      "cell_type": "markdown",
      "metadata": {},
      "source": [
        "# 1. Project Title\n",
        "## UCSD Real-Time Alerts and Campus Safety Dashboard\n"
      ]
    },
    {
      "cell_type": "markdown",
      "metadata": {},
      "source": [
        "# 2. Team Members\n",
        "- **Name**: Kliment Ho (A18116438)\n",
        "- **Name**: Ashley Chu (A16678105)\n",
        "- **Name**: Jun-Hee Hwang (A16767071)\n"
      ]
    },
    {
      "cell_type": "markdown",
      "metadata": {},
      "source": [
        "# 3. Question(s) Addressed, Why It Is Important (5pt)\n",
        "\n",
        "**(at least 250 words)**\n",
        "\n",
        "In this project, we aim to address a core question: **How can we effectively gather, process, and visualize real-time safety alerts and police reports around UC San Diego (UCSD) in order to improve campus-wide awareness and foster better decision-making?** Our project is informed by the observation that although UCSD publishes timely warnings and local police reports, the existing channels (email or text messages, mainly) do not provide a user-friendly, geospatial view of incidents. This creates information gaps regarding exactly where and when incidents occurred, and does little to assist newcomers or visitors in navigating campus safely.\n",
        "\n",
        "The intended audience includes UCSD students, faculty, staff, and visitors, as well as broader community members who traverse campus daily. By unifying these alerts into a live, interactive dashboard, we seek to provide an easily accessible and up-to-date view of campus safety. The business case for this solution centers on enhancing campus security and situational awareness in a cost-effective manner, leveraging open-source tools and local large language models (LLMs) to protect sensitive data. Furthermore, by offering a geospatial perspective, we allow the campus community to pinpoint historical hotspots and potential emerging threats in real time. This, in turn, fosters a greater sense of autonomy and personal safety.\n",
        "\n",
        "Compared to standard text alerts, an interactive map that displays incident type, severity, and location is far more intuitive, especially for non-technical users. With additional functionalities such as multi-lingual support (enabled by LLMs) and crowdsourcing of minor incident reports, the platform holds the potential to transform how safety information is disseminated and used on campus. It is relevant not only to law enforcement and campus officials, who can view trends and allocate resources more effectively, but also to students, who can adjust their daily commutes or evening schedules based on real-time data.\n",
        "\n",
        "Ultimately, our question addresses the gap between raw campus police information and a polished, user-friendly tool for campus safety. By building a comprehensive solution, we stand to make safety data more actionable, timely, and transparent, thereby contributing to a safer campus community.\n"
      ]
    },
    {
      "cell_type": "markdown",
      "metadata": {},
      "source": [
        "# 4. Background and Literature (5pt)\n",
        "\n",
        "**(at least 200 words)**\n",
        "\n",
        "Our project draws upon multiple existing bodies of literature surrounding real-time crime mapping, emergency alert systems, and geospatial data analysis. First, research by Akter and Wamba (2019) explores how integrating big data sources in disaster and crisis management can markedly increase responsiveness and situational awareness [[Link]](https://link.springer.com/article/10.1007/s10479-017-2584-2). Their findings underscore the importance of combining various data streams—such as campus police logs and 911 calls—to provide a comprehensive picture of an evolving threat landscape.\n",
        "\n",
        "Second, the Alert2Me application documented on the Google Play Store demonstrates how mobile platforms can disseminate urgent alerts quickly and efficiently [[Link]](https://a2m.cloud/). Inspired by their approach, we aim to develop a similarly rapid, location-based alert system specifically tailored for UCSD. However, our system distinguishes itself by harnessing local LLMs for data privacy and advanced semantic understanding of campus-centric location names.\n",
        "\n",
        "Third, the Ushahidi platform showcases how crowdsourcing can be integrated with geospatial technologies to map crisis events in real time, especially in areas where official data pipelines are sparse [[Link]](https://www.ushahidi.com/in-action/deployments/). We hope to adapt their principles of community engagement and data validation for a campus environment where user-generated reports might complement official police data.\n",
        "\n",
        "Finally, ArcGIS-based solutions and CrimeMapping.com exemplify widely used crime visualization platforms that combine geospatial analysis with incident reports. These solutions, however, often lack hyper-local context (such as building-level data at UCSD) and can be costly. By developing an open-source, UCSD-specific alternative, we aim to fill a significant gap in the current ecosystem, allowing for building-level precision and campus-specific nomenclature (\"Pepper Canyon Apartments,\" \"Warren Mall,\" etc.).\n",
        "\n",
        "These four references have helped narrow our focus toward (1) integrative data approaches, (2) real-time alert delivery, (3) crowd-sourced validations, and (4) localized, building-level precision—ultimately guiding our project to address campus-specific challenges that remain insufficiently solved by existing general-purpose applications.\n"
      ]
    },
    {
      "cell_type": "markdown",
      "metadata": {},
      "source": [
        "# 5. Python Packages You Used and Why (5pt)\n",
        "\n",
        "**(at least 100 words)**\n",
        "\n",
        "Below is a brief list of the main Python libraries that were crucial to this project. Compared to our initial proposal, we added or substituted certain libraries to handle new challenges, such as OCR or geocoding issues.\n",
        "\n",
        "1. **requests** and **BeautifulSoup**: For web scraping the UCSD Police logs and timely warning pages. These packages facilitate sending HTTP requests and parsing HTML data.\n",
        "2. **Pandas**: For data cleaning, manipulation, and storage of alert records in DataFrames.\n",
        "3. **Geopy** or **custom geocoding** tools: For converting building names to latitude/longitude when Google Maps fails due to campus-specific references.\n",
        "4. **Tesseract** or **pytesseract** (optional component): For OCR-based extraction of building names from scanned campus maps, ensuring precise location references.\n",
        "5. **Matplotlib**: For generating charts and basic data visualizations (histograms of incident types, etc.).\n",
        "6. **GeoPandas**: For advanced spatial operations, storing geospatial data, and performing transformations on coordinate systems.\n",
        "7. **Folium** (or **Leaflet** in a separate JS environment): For rendering interactive maps within Jupyter notebooks.\n",
        "\n",
        "In combination, these packages streamline our data ingestion, geospatial analysis, and final dashboard creation.\n"
      ]
    },
    {
      "cell_type": "markdown",
      "metadata": {},
      "source": [
        "# 6. Data Sources (10pt)\n",
        "\n",
        "**(at least 200 words)**\n",
        "\n",
        "Our primary data source remains the daily UCSD Police reports, published at:\n",
        "[UCSD Police Calls and Arrests](https://www.police.ucsd.edu/docs/reports/CallsandArrests/Calls_and_Arrests.asp). These HTML or PDF logs are updated frequently and provide detailed descriptions of incidents, such as theft, burglary, or suspicious activities, along with timestamps.\n",
        "\n",
        "We also rely on the official [UCSD Timely Warnings and Community Alerts](https://police.ucsd.edu/alerts/index.html) page for urgent announcements regarding incidents that require broader campus awareness. These data streams typically contain a textual location description (e.g., “Pepper Canyon Apartments”) that we parse and geocode.\n",
        "\n",
        "Additionally, we incorporate or plan to incorporate historical data from [CrimeMapping.com](https://www.crimemapping.com) for the broader San Diego area, providing a comparative perspective on non-campus incidents. Though CrimeMapping data is typically aggregated at the street block level, it allows us to see patterns just off campus boundaries. Because of potential privacy constraints, addresses are usually somewhat generalized. We also considered the [San Diego Police Department Online Crime Statistics](https://webapps.sandiego.gov/sdpdonline) for near-real-time data in the city. Integrating these data sets can show how on-campus activities relate to surrounding regions.\n",
        "\n",
        "One dataset we would like but have not obtained is a comprehensive real-time 911 dispatch feed for the UCSD area. Currently, no direct public API for that feed exists. Having it would improve the real-time nature of our system. Another challenge arises from partial or missing location data in official logs, which we partially remediate via local geocoding and manually curated building references. As the project evolves, we plan to expand data sources by leveraging crowd-sourced incident reports and possibly scanning UCSD building location maps with OCR for more precise building coordinates.\n"
      ]
    },
    {
      "cell_type": "markdown",
      "metadata": {},
      "source": [
        "# 7. Data Cleaning You Have Done (10pt)\n",
        "\n",
        "**(at least 100 words)**\n",
        "\n",
        "In our pipeline, the data cleaning process involved several steps:\n",
        "1. **Parsing Inconsistent Formats**: UCSD Police logs sometimes vary in how they specify location or time. We used regex and manual checks to standardize timestamps to a single format (e.g., YYYY-MM-DD HH:MM:SS) and to split out descriptive fields (e.g., ‘Dispo: Report Taken’).\n",
        "2. **Removing Duplicates**: Because some alerts were re-posted or updated, we identified duplicate entries based on a composite of date, location, and incident type. We keep only the latest version.\n",
        "3. **Location Normalization**: Building references often appear under multiple names (e.g., “Geisel Libr.” vs. “Geisel Library”). We curated a small dictionary to unify these references.\n",
        "4. **Lat/Lng Imputation**: When the geocoder could not resolve a location, we used a manual fallback system referencing a campus map. Over time, we built an updated dictionary of campus landmarks for consistent geocoding.\n",
        "\n",
        "Overall, the amount of data wrangling was in line with our expectations—though setting up robust geocoding logic for partial or colloquial building names was more time-consuming than initially planned.\n"
      ]
    },
    {
      "cell_type": "markdown",
      "metadata": {},
      "source": [
        "# 8. Descriptive Statistics for the Data (10pt)\n",
        "\n",
        "Let's load a sample dataset of alerts (`alerts_geocoded.json`) and explore some basic descriptive statistics.\n"
      ]
    },
    {
      "cell_type": "code",
      "execution_count": null,
      "metadata": {},
      "outputs": [],
      "source": [
        "import pandas as pd\n",
        "import json\n",
        "import matplotlib.pyplot as plt\n",
        "from IPython.display import display\n",
        "import numpy as np\n",
        "\n",
        "# Load the geocoded dataset\n",
        "with open('alerts_geocoded.json', 'r') as f:\n",
        "    data = json.load(f)\n",
        "\n",
        "df = pd.DataFrame(data)\n",
        "display(df.head())\n",
        "\n",
        "# Basic descriptive stats\n",
        "print('Number of rows:', len(df))\n",
        "print('Incident Types:', df['Crime Type'].unique())\n",
        "print('Alert Types:', df['Alert Type'].unique())\n",
        "\n",
        "# Let's do a simple count of incidents by Crime Type\n",
        "incident_counts = df['Crime Type'].value_counts()\n",
        "incident_counts.plot(kind='bar', figsize=(6,4))\n",
        "plt.title('Count of Incidents by Crime Type')\n",
        "plt.xlabel('Crime Type')\n",
        "plt.ylabel('Count')\n",
        "plt.show()\n",
        "\n",
        "# Spatial distribution: just computing the mean center as an example\n",
        "lat_mean = df['Latitude'].mean()\n",
        "lon_mean = df['Longitude'].mean()\n",
        "print('Mean Center of Incidents: (Lat, Lon) =', (lat_mean, lon_mean))\n",
        "\n",
        "# Spatial autocorrelation could be tested with more advanced libraries (e.g., PySAL),\n",
        "# but for demonstration, we focus on simpler stats.\n"
      ]
    },
    {
      "cell_type": "markdown",
      "metadata": {},
      "source": [
        "# 9. Analysis (25pt)\n",
        "\n",
        "**(at least 500 words)**\n",
        "\n",
        "### Outline of Our Analysis\n",
        "1. **Data Ingestion**: We begin by scraping the UCSD Police Department website for the latest alerts and the daily blotter logs. This is done with `requests` and `BeautifulSoup`. We parse relevant fields: Date, Time, Summary, Disposition, and Location.\n",
        "2. **Data Normalization**: We convert textual references like ‘Muir College Dorms’ to standardized names (e.g. ‘Muir College Residential Housing’) to facilitate consistent geocoding. For times, we ensure a uniform datetime format for subsequent sorting and filtering.\n",
        "3. **Geocoding**: Using a combination of local gazetteer lookups (OCR-derived building coordinates) and external geocoding (for addresses not on campus), we attach lat/lon to each record. When an address is too ambiguous for external APIs to resolve, our campus map dictionary bridges the gap.\n",
        "4. **Data Fusion & Deduplication**: We merge newly scraped records with existing historical data, removing duplicates or re-published alerts. Each record is assigned a unique ID.\n",
        "5. **Exploratory Statistics**: We compute frequency distributions of crime types (theft, burglary, assault, etc.), time-of-day patterns, and location clusters. We map the incidents to see if certain areas like parking garages or residential halls see higher rates of specific incidents.\n",
        "6. **Temporal & Spatial Visualization**: Using Folium or Leaflet, we display an interactive map where each marker corresponds to an incident. We add a timeline slider enabling the user to see how incidents shift by hour/day. For advanced analyses, we might compute kernel density estimates to see hotspots.\n",
        "7. **LLM-Based Interpretation**: We experiment with a local language model (like a Mistral or GPT-2 fine-tuned on UCSD building references) to parse location strings such as “Near the Sun God statue behind Peterson Hall” and produce refined lat/lon estimates, especially when standard gazetteers fail.\n",
        "8. **Security & Privacy Filter**: Before publishing each alert, we ensure personally identifying information is not leaked. The location is displayed only at a building or public area level, not a specific dorm room.\n",
        "\n",
        "### Step-by-Step Code Demonstration\n"
      ]
    },
    {
      "cell_type": "code",
      "execution_count": null,
      "metadata": {},
      "outputs": [],
      "source": [
        "# Step 1: Data Ingestion (Mock Example)\n",
        "import requests\n",
        "from bs4 import BeautifulSoup\n",
        "\n",
        "url = 'https://police.ucsd.edu/alerts/index.html'  # Example URL\n",
        "# response = requests.get(url)\n",
        "# soup = BeautifulSoup(response.text, 'html.parser')\n",
        "\n",
        "# For demonstration, we won't do an actual scrape here, but let's pretend we did and built a DataFrame:\n",
        "mock_data = {\n",
        "    'Date': ['2025-03-10', '2025-03-11'],\n",
        "    'Time': ['08:00', '23:15'],\n",
        "    'Summary': ['Burglary reported at Muir College Dorms', 'Suspicious person near Pepper Canyon'],\n",
        "    'Location': ['Muir College Dorms', 'Pepper Canyon Apartments'],\n",
        "    'Disposition': ['Open', 'Report Taken']\n",
        "}\n",
        "\n",
        "df_ingest = pd.DataFrame(mock_data)\n",
        "df_ingest\n"
      ]
    },
    {
      "cell_type": "code",
      "execution_count": null,
      "metadata": {},
      "outputs": [],
      "source": [
        "# Step 2: Data Normalization & Geocoding (Mock Example)\n",
        "\n",
        "# Let's define a small dictionary for campus references\n",
        "campus_dict = {\n",
        "    'Muir College Dorms': (32.8790, -117.2410),\n",
        "    'Pepper Canyon Apartments': (32.8782, -117.2393)\n",
        "}\n",
        "\n",
        "def custom_geocode(location_str):\n",
        "    # If the location matches our dictionary, return those coords\n",
        "    if location_str in campus_dict:\n",
        "        return campus_dict[location_str]\n",
        "    else:\n",
        "        # In a real scenario, we might call an external geocoder or do fuzzy matching\n",
        "        return (None, None)\n",
        "\n",
        "df_ingest['Latitude'] = None\n",
        "df_ingest['Longitude'] = None\n",
        "\n",
        "for idx, row in df_ingest.iterrows():\n",
        "    lat, lng = custom_geocode(row['Location'])\n",
        "    df_ingest.at[idx, 'Latitude'] = lat\n",
        "    df_ingest.at[idx, 'Longitude'] = lng\n",
        "\n",
        "df_ingest"
      ]
    },
    {
      "cell_type": "code",
      "execution_count": null,
      "metadata": {},
      "outputs": [],
      "source": [
        "# Step 3: Simple Visualization in Notebook (using matplotlib or folium)\n",
        "import folium\n",
        "\n",
        "# Center the map roughly around UCSD\n",
        "m = folium.Map(location=[32.8801, -117.2340], zoom_start=15)\n",
        "\n",
        "for idx, row in df_ingest.iterrows():\n",
        "    if row['Latitude'] is not None and row['Longitude'] is not None:\n",
        "        folium.Marker(\n",
        "            location=[row['Latitude'], row['Longitude']],\n",
        "            popup=f\"{row['Summary']} | {row['Disposition']}\",\n",
        "        ).add_to(m)\n",
        "\n",
        "m"
      ]
    },
    {
      "cell_type": "markdown",
      "metadata": {},
      "source": [
        "### Reflection on Differences from Initial Plan\n",
        "In our initial project proposal, we anticipated using an LLM for location resolution more extensively. However, in practice, we found that a curated dictionary for UCSD campus references plus a standard external geocoder sufficed for many incidents. The LLM approach remains a backup for ambiguous references. Also, we initially planned to integrate near-real-time 911 data but discovered the public feed was not available; thus, we stuck to UCSD's official logs and crowdsourced expansions.\n",
        "\n",
        "Overall, the analysis steps—scrape, parse, standardize, geocode, visualize—did not deviate substantially from our proposal. The main differences centered on the nuance of geocoding and the partially manual approach we had to adopt for campus-specific building names.\n"
      ]
    },
    {
      "cell_type": "markdown",
      "metadata": {},
      "source": [
        "# 10. Summary of Products and Results (10pt)\n",
        "\n",
        "**(at least 200 words)**\n",
        "\n",
        "In summary, our UCSD Real-Time Alerts and Campus Safety Dashboard consolidates multiple data sources—including UCSD Police logs and Timely Warnings—into a centralized system. The pipeline consists of web scraping to gather new alerts, data normalization to unify location references, and geocoding to pinpoint incidents on the map. We further enriched the dataset by building a custom dictionary of campus buildings, allowing us to overcome the limitations of mainstream geocoding services for campus-specific terms.\n",
        "\n",
        "Our final product is an interactive web dashboard (demonstrated via a Folium map in this notebook) that displays recent incidents in an easy-to-understand, geospatial format. We implemented basic filters for incident type and time range, and provided a pop-up system that reveals details like date, summary, and disposition upon clicking a marker. This map not only helps end-users track ongoing situations but also offers historical context, highlighting patterns or hotspots across campus.\n",
        "\n",
        "By analyzing the aggregated data, we observed that incidents tend to cluster around high-traffic areas such as campus housing and major walkways. Our simple descriptive statistics showed that theft- or burglary-related incidents consistently top the list, while more severe crimes like assaults are far less frequent but more alarming when they do appear. These findings corroborate earlier assumptions that visible, high-density regions of campus might require special attention or safety measures. Overall, our integrated approach to data ingestion, processing, and visualization underscores the potential for real-time geographic alert systems to enhance campus safety and awareness.\n"
      ]
    },
    {
      "cell_type": "markdown",
      "metadata": {},
      "source": [
        "# 11. Discussion (10pt)\n",
        "\n",
        "**(at least 200 words)**\n",
        "\n",
        "### 1) Findings in Relation to Literature\n",
        "Our findings echo Akter and Wamba (2019), who emphasize that timely integration of multiple data streams—like UCSD official logs, city-wide stats, and even crowdsourced tips—can significantly improve the speed and depth of situational awareness. While we only partly integrated crowd-sourced incident reporting, future expansions could further bolster campus safety intelligence. Similarly, Alert2Me’s concept of immediate, location-based notifications aligns with our web dashboard approach, albeit ours is primarily map-centric and campus-tailored.\n",
        "\n",
        "We also drew lessons from Ushahidi deployments, which stress the importance of user-friendly mapping tools. By focusing on building-level accuracy, we went beyond many general crime mapping platforms (e.g., CrimeMapping.com) that often operate at the block level. Our results confirm that hyper-local context fosters more immediate relevance to the campus population, addressing an important gap highlighted in prior campus safety research.\n",
        "\n",
        "### 2) Trade-Offs and Decision Points\n",
        "One trade-off involved location privacy. We show precise markers at campus buildings, which may risk over-disclosure if victim addresses are too detailed. Our compromise is to only geocode publicly known areas (e.g., the dorm building’s main address, not a specific dorm room). We also faced the challenge of balancing advanced LLM usage vs. a simpler dictionary-based geocoding approach. The latter proved more reliable for known building names, while LLM solutions might handle ambiguous or colloquial references better.\n",
        "\n",
        "Another key decision was using Folium for a quick demonstration within this notebook, rather than implementing a more robust front-end framework with MapLibre or deck.gl. For scalability, we may later adopt a higher-performance solution. Ultimately, each step involved balancing complexity, cost, and the unique demands of a dynamic campus environment.\n"
      ]
    },
    {
      "cell_type": "markdown",
      "metadata": {},
      "source": [
        "# 12. Conclusions and Future Work (10pt)\n",
        "\n",
        "**(at least 200 words)**\n",
        "\n",
        "Our initial research question—whether we could create an effective, real-time dashboard for UCSD Police Alerts—has largely been answered. We successfully developed a pipeline that scrapes the official UCSD Police pages, normalizes the incident data, and visualizes it on an interactive map. In doing so, we demonstrated that hyper-local geocoding is both feasible and indispensable for an environment where mainstream geocoding solutions lack the precision needed for building-level accuracy.\n",
        "\n",
        "That said, there remain opportunities to further refine our system. First, we would like to integrate city-level 911 call data, bridging campus-specific alerts with broader regional crime trends. Second, adding a crowdsourcing module could empower students and staff to submit reports directly, although this raises questions about data validation, potential misuse, and privacy considerations. Third, the use of OCR to extract building labels from campus maps can be improved by training a specialized model for campus map fonts or implementing better text pre-processing routines. Fourth, as we scale, switching to a real-time push notification system (e.g., WebSockets) could ensure the campus community sees new alerts within moments of their publication.\n",
        "\n",
        "Eventually, we envision a single platform that merges official UCSD alerts with city-wide data streams, user-generated tips, and advanced analytics, possibly using clustering and predictive models to forecast potential hotspots. Through these expansions, our approach might generalize to other campuses or communities where accurate, timely, and privacy-conscious incident mapping is paramount. Overall, we believe that continued iteration in data sources, geocoding intelligence, and user engagement will help the platform evolve into a robust, indispensable resource for campus safety.\n"
      ]
    }
  ],
  "metadata": {
    "kernelspec": {
      "display_name": "Python 3",
      "language": "python",
      "name": "python3"
    },
    "language_info": {
      "codemirror_mode": {
        "name": "ipython",
        "version": 3
      },
      "mimetype": "text/x-python",
      "name": "python",
      "pygments_lexer": "ipython3",
      "version": "3.9"
    }
  },
  "nbformat": 4,
  "nbformat_minor": 4
}
